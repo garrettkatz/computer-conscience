{
 "cells": [
  {
   "cell_type": "code",
   "execution_count": 28,
   "metadata": {},
   "outputs": [
    {
     "data": {
      "text/plain": [
       "degree of charge (felony/misdemeanor)                   F\n",
       "risk assessment date                           2013-12-23\n",
       "gender                                             Female\n",
       "number of prior convictions                             1\n",
       "recidivist                                              0\n",
       "recidivism risk score                                   4\n",
       "last name                                             Doe\n",
       "full name                                     Jane A. Doe\n",
       "number of juvenile felonies                             0\n",
       "date of birth                                  1993-04-09\n",
       "age                                                    23\n",
       "number of juvenile misdemeanors                         0\n",
       "number of other juvenile crimes                         0\n",
       "race                                     African-American\n",
       "first name                                           Jane\n",
       "recidivist guess                                        0\n",
       "Name: 6904, dtype: object"
      ]
     },
     "execution_count": 28,
     "metadata": {},
     "output_type": "execute_result"
    }
   ],
   "source": [
    "# Loads CSV data\n",
    "import pandas as pd\n",
    "data = pd.read_csv(\"data/training_data.csv\", index_col=0)\n",
    "\n",
    "# Views column names and values for first subject in the data\n",
    "data.iloc[0,:]"
   ]
  },
  {
   "cell_type": "code",
   "execution_count": 29,
   "metadata": {},
   "outputs": [],
   "source": [
    "# Write some code to answer the following questions, according to the data."
   ]
  },
  {
   "cell_type": "code",
   "execution_count": 22,
   "metadata": {},
   "outputs": [
    {
     "name": "stdout",
     "output_type": "stream",
     "text": [
      "22\n"
     ]
    }
   ],
   "source": [
    "# How old are you?\n",
    "idx = data[(data[\"full name\"] == \"John F. Doe\")].index[0]\n",
    "print(data.loc[idx,\"age\"])"
   ]
  },
  {
   "cell_type": "code",
   "execution_count": 23,
   "metadata": {},
   "outputs": [
    {
     "name": "stdout",
     "output_type": "stream",
     "text": [
      "number of juvenile felonies        0\n",
      "number of juvenile misdemeanors    1\n",
      "number of other juvenile crimes    2\n",
      "Name: 8132, dtype: object\n"
     ]
    }
   ],
   "source": [
    "# Did you commit any felonies, misdemeanors, or other crimes as a juvenile?\n",
    "print(data.loc[idx,[\"number of juvenile felonies\", \"number of juvenile misdemeanors\", \"number of other juvenile crimes\"]])"
   ]
  },
  {
   "cell_type": "code",
   "execution_count": 24,
   "metadata": {},
   "outputs": [
    {
     "name": "stdout",
     "output_type": "stream",
     "text": [
      "1\n"
     ]
    }
   ],
   "source": [
    "# How many total prior convictions have you had?\n",
    "print(data.loc[idx,\"number of prior convictions\"])\n"
   ]
  },
  {
   "cell_type": "code",
   "execution_count": 26,
   "metadata": {},
   "outputs": [
    {
     "name": "stdout",
     "output_type": "stream",
     "text": [
      "No\n"
     ]
    }
   ],
   "source": [
    "# Were you a recidivist? (Did you commit a subsequent crime after your compas assessment)?\n",
    "print([\"No\",\"Yes\"][data.loc[idx,\"recidivist\"]]) "
   ]
  },
  {
   "cell_type": "code",
   "execution_count": 27,
   "metadata": {},
   "outputs": [
    {
     "name": "stdout",
     "output_type": "stream",
     "text": [
      "5\n"
     ]
    }
   ],
   "source": [
    "# What was your risk of recidivism according to the compas assessment?\n",
    "print(data.loc[idx,\"recidivism risk score\"])"
   ]
  },
  {
   "cell_type": "code",
   "execution_count": 30,
   "metadata": {},
   "outputs": [
    {
     "name": "stdout",
     "output_type": "stream",
     "text": [
      "0\n",
      "True\n",
      "1.0\n",
      "False\n"
     ]
    }
   ],
   "source": [
    "# Convert everyone's \"recidivism risk score\" from compas to a binary label:\n",
    "#    1 if the score is greater than 5, 0 otherwise.\n",
    "# Store the result in a new column called \"recidivist compas\".\n",
    "# According to this scheme, did your compas score predict that you were a recidivist, and was it correct?\n",
    "# Did your classmates guess that you were a recidivist, and were they correct?\n",
    "data[\"recidivist compas\"] = (data[\"recidivism risk score\"] > 5).astype(int)\n",
    "print(data.loc[idx,\"recidivist compas\"])\n",
    "print(data.loc[idx,\"recidivist compas\"] == data.loc[idx,\"recidivist\"])\n",
    "print(data.loc[idx,\"recidivist guess\"])\n",
    "print(data.loc[idx,\"recidivist guess\"] == data.loc[idx,\"recidivist\"])\n"
   ]
  },
  {
   "cell_type": "code",
   "execution_count": 33,
   "metadata": {},
   "outputs": [
    {
     "name": "stdout",
     "output_type": "stream",
     "text": [
      "52\n",
      "6\n",
      "7\n",
      "3\n",
      "9\n"
     ]
    }
   ],
   "source": [
    "# How many subjects are there in the data?\n",
    "# What was the total number of false positives and false negatives for the compas recidivist predictions?\n",
    "# What about for your classmates' recidivist predictions?\n",
    "print(data.shape[0])\n",
    "print(((data[\"recidivist compas\"] == 1) & (data[\"recidivist\"] == 0)).sum())\n",
    "print(((data[\"recidivist compas\"] == 0) & (data[\"recidivist\"] == 1)).sum())\n",
    "print(((data[\"recidivist guess\"] == 1) & (data[\"recidivist\"] == 0)).sum())\n",
    "print(((data[\"recidivist guess\"] == 0) & (data[\"recidivist\"] == 1)).sum())"
   ]
  },
  {
   "cell_type": "code",
   "execution_count": 36,
   "metadata": {},
   "outputs": [
    {
     "name": "stdout",
     "output_type": "stream",
     "text": [
      "(0.3157894736842105, 0.14285714285714288)\n"
     ]
    }
   ],
   "source": [
    "# Calculate the F-scores for the compas predictions and your classmate guesses.  Which score is higher?\n",
    "# https://en.wikipedia.org/wiki/F1_score\n",
    "tp_c = ((data[\"recidivist compas\"] == 1) & (data[\"recidivist\"] == 1)).sum()\n",
    "tn_c = ((data[\"recidivist compas\"] == 0) & (data[\"recidivist\"] == 0)).sum()\n",
    "fp_c = ((data[\"recidivist compas\"] == 1) & (data[\"recidivist\"] == 0)).sum()\n",
    "fn_c = ((data[\"recidivist compas\"] == 0) & (data[\"recidivist\"] == 1)).sum()\n",
    "\n",
    "tp_g = ((data[\"recidivist guess\"] == 1) & (data[\"recidivist\"] == 1)).sum()\n",
    "tn_g = ((data[\"recidivist guess\"] == 0) & (data[\"recidivist\"] == 0)).sum()\n",
    "fp_g = ((data[\"recidivist guess\"] == 1) & (data[\"recidivist\"] == 0)).sum()\n",
    "fn_g = ((data[\"recidivist guess\"] == 0) & (data[\"recidivist\"] == 1)).sum()\n",
    "\n",
    "p_c, r_c = float(tp_c) / (tp_c + fp_c), float(tp_c) / (tp_c + fn_c)\n",
    "p_g, r_g = float(tp_g) / (tp_g + fp_g), float(tp_g) / (tp_g + fn_g)\n",
    "\n",
    "f1_c = 2*p_c*r_c / (p_c + r_c)\n",
    "f1_g = 2*p_g*r_g / (p_g + r_g)\n",
    "print(f1_c, f1_g)"
   ]
  },
  {
   "cell_type": "code",
   "execution_count": 55,
   "metadata": {},
   "outputs": [
    {
     "data": {
      "text/plain": [
       "gender                                       Female\n",
       "age                                              23\n",
       "race                               African-American\n",
       "number of prior convictions                       1\n",
       "number of juvenile felonies                       0\n",
       "number of juvenile misdemeanors                   0\n",
       "number of other juvenile crimes                   0\n",
       "Name: 6904, dtype: object"
      ]
     },
     "execution_count": 55,
     "metadata": {},
     "output_type": "execute_result"
    }
   ],
   "source": [
    "# Extracts columns to use as training examples.\n",
    "\n",
    "examples = data[[\"gender\",\n",
    "                 \"age\",\n",
    "                 \"race\",\n",
    "                 \"number of prior convictions\",\n",
    "                 \"number of juvenile felonies\",\n",
    "                 \"number of juvenile misdemeanors\",\n",
    "                 \"number of other juvenile crimes\"]].copy()\n",
    "\n",
    "# Extract columns to use as labels.\n",
    "labels = data[\"recidivist\"]\n",
    "labels_c = data[\"recidivist compas\"]\n",
    "labels_g = data[\"recidivist guess\"]\n",
    "\n",
    "examples.iloc[0,:]"
   ]
  },
  {
   "cell_type": "code",
   "execution_count": 56,
   "metadata": {},
   "outputs": [
    {
     "data": {
      "text/plain": [
       "age                                23\n",
       "number of prior convictions         1\n",
       "number of juvenile felonies         0\n",
       "number of juvenile misdemeanors     0\n",
       "number of other juvenile crimes     0\n",
       "male                                0\n",
       "female                              1\n",
       "african-american                    1\n",
       "caucasian                           0\n",
       "hispanic                            0\n",
       "asian                               0\n",
       "native american                     0\n",
       "other                               0\n",
       "Name: 6904, dtype: int64"
      ]
     },
     "execution_count": 56,
     "metadata": {},
     "output_type": "execute_result"
    }
   ],
   "source": [
    "# Factorize the categorical features.\n",
    "# For example, replace the \"gender\" column with two columns \"male\" and \"female\",\n",
    "# where \"male\" is 1 for male subjects and 0 for female subjects, and \"female\" is the reverse.\n",
    "# Similarly factorize the \"race\" column into one binary column per race category in the dataset.\n",
    "# You can do this from scratch, or use sklearn's OneHotEncoder:\n",
    "#   https://scikit-learn.org/stable/modules/generated/sklearn.preprocessing.OneHotEncoder.html\n",
    "\n",
    "examples[\"male\"] = (examples[\"gender\"] == \"Male\").astype(int)\n",
    "examples[\"female\"] = (examples[\"gender\"] == \"Female\").astype(int)\n",
    "examples = examples.drop(columns=\"gender\")\n",
    "\n",
    "examples[\"african-american\"] = (examples[\"race\"] == \"African-American\").astype(int)\n",
    "examples[\"caucasian\"] = (examples[\"race\"] == \"Caucasian\").astype(int)\n",
    "examples[\"hispanic\"] = (examples[\"race\"] == \"Hispanic\").astype(int)\n",
    "examples[\"asian\"] = (examples[\"race\"] == \"Asian\").astype(int)\n",
    "examples[\"native american\"] = (examples[\"race\"] == \"Native American\").astype(int)\n",
    "examples[\"other\"] = (examples[\"race\"] == \"Other\").astype(int)\n",
    "examples = examples.drop(columns=\"race\")\n",
    "\n",
    "examples.iloc[0,:]"
   ]
  },
  {
   "cell_type": "code",
   "execution_count": 85,
   "metadata": {},
   "outputs": [
    {
     "name": "stdout",
     "output_type": "stream",
     "text": [
      "(1, 0.875)\n",
      "(2, 0.875)\n",
      "(3, 0.875)\n",
      "(4, 0.875)\n",
      "(5, 0.625)\n",
      "(6, 0.75)\n",
      "(7, 0.75)\n",
      "(8, 0.75)\n",
      "(9, 0.75)\n",
      "(10, 0.75)\n",
      "(11, 0.75)\n",
      "(12, 0.75)\n"
     ]
    }
   ],
   "source": [
    "# Split the data into roughly 7/8 for training and 1/8 for testing.\n",
    "# Train an sklearn decision tree to predict recidivism, based on the ground-truth recidivism label.\n",
    "# What are the training and testing accuracies?\n",
    "# Repeat this experiment on max tree depths ranging from 1 to the number of features.\n",
    "\n",
    "import numpy as np\n",
    "train_idx = (np.random.rand(examples.shape[0]) < 7./8)\n",
    "\n",
    "from sklearn.tree import DecisionTreeClassifier\n",
    "for max_depth in range(1, examples.shape[1]):\n",
    "    clf = DecisionTreeClassifier(max_depth=max_depth).fit(examples.iloc[train_idx,:], labels.iloc[train_idx])\n",
    "    pred = clf.predict(examples.iloc[~train_idx,:])\n",
    "    print(max_depth, (pred == labels.iloc[~train_idx]).astype(float).sum() / (~train_idx).sum())"
   ]
  },
  {
   "cell_type": "code",
   "execution_count": 86,
   "metadata": {},
   "outputs": [
    {
     "name": "stdout",
     "output_type": "stream",
     "text": [
      "compas\n",
      "(1, 1.0, 0.625)\n",
      "(2, 1.0, 0.625)\n",
      "(3, 0.875, 0.5)\n",
      "(4, 1.0, 0.625)\n",
      "(5, 1.0, 0.625)\n",
      "(6, 1.0, 0.625)\n",
      "(7, 1.0, 0.625)\n",
      "(8, 1.0, 0.625)\n",
      "(9, 1.0, 0.625)\n",
      "(10, 1.0, 0.625)\n",
      "(11, 1.0, 0.625)\n",
      "(12, 1.0, 0.625)\n",
      "guesses\n",
      "(1, 1.0, 0.875)\n",
      "(2, 1.0, 0.875)\n",
      "(3, 1.0, 0.875)\n",
      "(4, 1.0, 0.875)\n",
      "(5, 1.0, 0.875)\n",
      "(6, 1.0, 0.875)\n",
      "(7, 1.0, 0.875)\n",
      "(8, 1.0, 0.875)\n",
      "(9, 1.0, 0.875)\n",
      "(10, 1.0, 0.875)\n",
      "(11, 1.0, 0.875)\n",
      "(12, 1.0, 0.875)\n"
     ]
    }
   ],
   "source": [
    "# Repeat the previous exercise using the compas-based recidivism labels and then the classmate-guessed labels.\n",
    "# Measure accuracy twice - once using the compas/guessed labels, and once using the ground-truth labels.\n",
    "\n",
    "print(\"compas\")\n",
    "for max_depth in range(1, examples.shape[1]):\n",
    "    clf = DecisionTreeClassifier(max_depth=max_depth).fit(examples.iloc[train_idx,:], labels_c.iloc[train_idx])\n",
    "    pred = clf.predict(examples.iloc[~train_idx,:])\n",
    "    acc_c = (pred == labels_c.iloc[~train_idx]).astype(float).sum() / (~train_idx).sum()\n",
    "    acc = (pred == labels.iloc[~train_idx]).astype(float).sum() / (~train_idx).sum()\n",
    "    print(max_depth, acc_c, acc)\n",
    "\n",
    "print(\"guesses\")\n",
    "for max_depth in range(1, examples.shape[1]):\n",
    "    clf = DecisionTreeClassifier(max_depth=max_depth).fit(examples.iloc[train_idx,:], labels_g.iloc[train_idx])\n",
    "    pred = clf.predict(examples.iloc[~train_idx,:])\n",
    "    acc_g = (pred == labels_g.iloc[~train_idx]).astype(float).sum() / (~train_idx).sum()\n",
    "    acc = (pred == labels.iloc[~train_idx]).astype(float).sum() / (~train_idx).sum()\n",
    "    print(max_depth, acc_g, acc)"
   ]
  },
  {
   "cell_type": "code",
   "execution_count": 87,
   "metadata": {},
   "outputs": [
    {
     "name": "stdout",
     "output_type": "stream",
     "text": [
      "0.75\n"
     ]
    }
   ],
   "source": [
    "# What is the accuracy of the compas-based labels themselves (not the tree that was trained on them)?\n",
    "# How does that accuracy compare to the best tree that was trained on the ground truth?\n",
    "print(float((labels == labels_c).sum()) / len(labels))"
   ]
  }
 ],
 "metadata": {
  "kernelspec": {
   "display_name": "Python 2",
   "language": "python",
   "name": "python2"
  },
  "language_info": {
   "codemirror_mode": {
    "name": "ipython",
    "version": 2
   },
   "file_extension": ".py",
   "mimetype": "text/x-python",
   "name": "python",
   "nbconvert_exporter": "python",
   "pygments_lexer": "ipython2",
   "version": "2.7.15"
  }
 },
 "nbformat": 4,
 "nbformat_minor": 2
}
